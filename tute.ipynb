{
 "cells": [
  {
   "cell_type": "code",
   "execution_count": 36,
   "metadata": {},
   "outputs": [],
   "source": [
    "import torch\n",
    "from torch import nn\n",
    "import torch.nn.functional as F\n",
    "from sklearn.decomposition import NMF"
   ]
  },
  {
   "attachments": {},
   "cell_type": "markdown",
   "metadata": {},
   "source": [
    "<h1> 1. Get Data </h1>"
   ]
  },
  {
   "cell_type": "code",
   "execution_count": 51,
   "metadata": {},
   "outputs": [],
   "source": [
    "path  = 'C:/Users/thanh/Documents/CARS/Data/ml-100k/'\n",
    "df = pd.read_csv(path+ 'u.data', sep = '\\t', names=['userID','itemID','rating','timestamp'])\n",
    "df2= pd.read_csv(path+ 'u.genre', sep = '|',names=['Genres','ID'])\n",
    "df3=pd.read_csv(path+ 'u.item', sep = '|',encoding = \"ISO-8859-1\",names=['MovieID','Title','realeasDate','videoReleaseDate','URL','unknown','Action','Adventure', 'Animation',  'Children' , 'Comedy',  'Crime',  'Documentary',  'Drama',  'Fantasy',  'Film-Noir',  'Horror',  'Musical',  'Mystery',  'Romance',  'Sci-Fi',  'Thriller',  'War',  'Western' ])\n",
    "df = df[:800]\n",
    "df3 = df3.drop(columns=['Title','realeasDate','videoReleaseDate','URL'])\n",
    "data = pd.merge(df,df3, left_on='itemID',right_on='MovieID',how='inner').drop(columns='MovieID') #Input for side-info\n",
    "#number of attributes for feaure \"GENRE\"\n",
    "F_genre = len(data.columns)-4\n",
    "df3 = df3.set_index('MovieID')\n",
    "zzx = data.groupby(['itemID']).mean().drop(columns=['userID','rating','timestamp']).T\n",
    "# zzx.columns = zzx.iloc[0]\n",
    "# zzx = zzx[1:]\n",
    "rating=data.pivot(index='userID',columns='itemID',values='rating').fillna(0)\n",
    "rate = rating.reset_index().drop(columns=['userID'])"
   ]
  },
  {
   "cell_type": "code",
   "execution_count": 53,
   "metadata": {},
   "outputs": [],
   "source": [
    "import numpy as np\n",
    "import pandas as pd \n",
    "from scipy.sparse import coo_matrix\n",
    "from sklearn.decomposition import NMF\n",
    "from sklearn.preprocessing import normalize\n",
    "from sklearn.metrics.pairwise import cosine_similarity\n",
    "from tqdm import tqdm\n",
    "\n",
    "class MatrixFactorizationCF:\n",
    "    def __init__(self, n_factors, lambda_reg, n_iterations, alpha):\n",
    "        self.n_factors = n_factors\n",
    "        self.lambda_reg = lambda_reg\n",
    "        self.n_iterations = n_iterations\n",
    "        self.alpha = alpha\n",
    "    \n",
    "    def fit(self, X, item_features):\n",
    "        model = NMF(n_components=self.n_factors)\n",
    "        self.n_users, self.n_items = X.shape\n",
    "        self.R = coo_matrix(X)\n",
    "        self.item_features = item_features\n",
    "        self.U = model.fit_transform(self.R)\n",
    "        self.V = model.components_\n",
    "        self.item_feature_weights = np.random.normal(size=(self.n_items, self.item_features.shape[1]))\n",
    "        self.item_feature_bias = np.random.normal(size=self.n_items)\n",
    "        \n",
    "        for i in tqdm(range(self.n_iterations)):\n",
    "            self.update_user_factors()\n",
    "            self.update_item_factors()\n",
    "            self.update_item_feature_weights()\n",
    "            self.update_item_feature_bias()\n",
    "            \n",
    "    def predict(self, X):\n",
    "        return self.U.dot(self.V.T) + self.item_features.dot(self.item_feature_weights.T) + self.item_feature_bias\n",
    "        \n",
    "    def update_user_factors(self):\n",
    "        VV = self.V.T.dot(self.V)\n",
    "        for i in range(self.n_users):\n",
    "            V_i = self.V[self.R.row[self.R.row == i], :]\n",
    "            A = V_i.T.dot(V_i) + self.lambda_reg * np.eye(self.n_factors)\n",
    "            b = V_i.T.dot(self.R.data[self.R.row == i]) + self.alpha * self.U[i, :]\n",
    "            self.U[i, :] = np.linalg.solve(A, b)\n",
    "    \n",
    "    def update_item_factors(self):\n",
    "        UU = self.U.T.dot(self.U)\n",
    "        for j in range(self.n_items):\n",
    "            U_j = self.U[self.R.col[self.R.col == j], :]\n",
    "            A = U_j.T.dot(U_j) + self.lambda_reg * np.eye(self.n_factors)\n",
    "            b = U_j.T.dot(self.R.data[self.R.col == j]) + self.alpha * (self.V[j, :] + self.item_features[j, :].dot(self.item_feature_weights))\n",
    "            self.V[j, :] = np.linalg.solve(A, b)\n",
    "    \n",
    "    def update_item_feature_weights(self):\n",
    "        for j in range(self.n_items):\n",
    "            sim = cosine_similarity(self.item_features[j, :].reshape(1, -1), self.item_features)\n",
    "            w = sim.dot(self.V) / sim.sum()\n",
    "            A = w.T.dot(w) + self.lambda_reg * np.eye(self.n_factors)\n",
    "            b = w.T.dot(self.R.data[self.R.col == j] - self.V[j, :].dot(self.U[self.R.row[self.R.col == j], :].T))\n",
    "            self.item_feature_weights[j, :] = np.linalg.solve(A, b)\n",
    "    \n",
    "    def update_item_feature_bias(self):\n",
    "        for j in range(self.n_items):\n",
    "            self.item_feature_bias[j] = (self.R.data[self.R.col == j] - self.U[self.R.row[self.R.col == j], :].dot(self.V[j, :].T) - self.item_features[j, :].dot(self.item_feature_weights.T)).mean()\n"
   ]
  },
  {
   "cell_type": "code",
   "execution_count": 55,
   "metadata": {},
   "outputs": [],
   "source": [
    "md = MatrixFactorizationCF(n_factors=10,lambda_reg=0.4,alpha=0.012,n_iterations=250)\n",
    "\n"
   ]
  },
  {
   "cell_type": "code",
   "execution_count": null,
   "metadata": {},
   "outputs": [],
   "source": []
  },
  {
   "cell_type": "code",
   "execution_count": null,
   "metadata": {},
   "outputs": [],
   "source": []
  }
 ],
 "metadata": {
  "kernelspec": {
   "display_name": "base",
   "language": "python",
   "name": "python3"
  },
  "language_info": {
   "codemirror_mode": {
    "name": "ipython",
    "version": 3
   },
   "file_extension": ".py",
   "mimetype": "text/x-python",
   "name": "python",
   "nbconvert_exporter": "python",
   "pygments_lexer": "ipython3",
   "version": "3.9.7"
  },
  "orig_nbformat": 4,
  "vscode": {
   "interpreter": {
    "hash": "e3a18842cd88223d2eea50a134bb96e0584ccfa9a42436ff53b4efa05bbcefc4"
   }
  }
 },
 "nbformat": 4,
 "nbformat_minor": 2
}
